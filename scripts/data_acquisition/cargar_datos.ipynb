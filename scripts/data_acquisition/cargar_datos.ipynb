{
  "cells": [
    {
      "cell_type": "code",
      "source": [
        "!wget --no-cache -O x-rays.zip.npy -q \"https://drive.google.com/uc?export=download&id=1It4NYRJNEem3YLHJqYZyclUbR85eqZH8\""
      ],
      "metadata": {
        "id": "k7B1cgDaepc1"
      },
      "id": "k7B1cgDaepc1",
      "execution_count": null,
      "outputs": []
    },
    {
      "cell_type": "code",
      "execution_count": null,
      "id": "b2e644a9",
      "metadata": {
        "id": "b2e644a9",
        "colab": {
          "base_uri": "https://localhost:8080/"
        },
        "outputId": "65facfd4-2cb6-4f2f-ef25-2248d6132e29"
      },
      "outputs": [
        {
          "output_type": "stream",
          "name": "stdout",
          "text": [
            "Requirement already satisfied: opencv-python in /usr/local/lib/python3.10/dist-packages (4.8.0.76)\n",
            "Requirement already satisfied: numpy>=1.21.2 in /usr/local/lib/python3.10/dist-packages (from opencv-python) (1.23.5)\n"
          ]
        }
      ],
      "source": [
        "!pip install opencv-python"
      ]
    },
    {
      "cell_type": "code",
      "source": [
        "from tqdm import tqdm\n",
        "import os\n",
        "import pandas as pd\n",
        "import tensorflow as tf\n",
        "import matplotlib.pyplot as plt\n",
        "import numpy as np\n",
        "import cv2\n",
        "from glob import glob\n",
        "import sklearn\n",
        "import skimage\n",
        "from skimage.transform import resize\n",
        "import random\n",
        "from cv2.gapi import RGB2Gray\n",
        "from skimage.color import rgb2gray\n",
        "import pdb"
      ],
      "metadata": {
        "id": "39lXLESCHEB-"
      },
      "id": "39lXLESCHEB-",
      "execution_count": null,
      "outputs": []
    },
    {
      "cell_type": "markdown",
      "source": [
        "La siguiente función solo opera de forma local lo cual facilita la obtención de las imágenes, a partir de un archivo llamado x-rays.zip y el cual contiene los directorios con las imágenes de rayos x, debidamente clasificados."
      ],
      "metadata": {
        "id": "V33o66WnHHYm"
      },
      "id": "V33o66WnHHYm"
    },
    {
      "cell_type": "code",
      "source": [
        "from google.colab import drive\n",
        "drive.mount('/content/drive')"
      ],
      "metadata": {
        "colab": {
          "base_uri": "https://localhost:8080/"
        },
        "id": "skUicKOeHrEe",
        "outputId": "eeb775be-8a87-444c-ad2c-c2cf9275e108"
      },
      "id": "skUicKOeHrEe",
      "execution_count": null,
      "outputs": [
        {
          "output_type": "stream",
          "name": "stdout",
          "text": [
            "Mounted at /content/drive\n"
          ]
        }
      ]
    },
    {
      "cell_type": "code",
      "source": [
        "import zipfile\n",
        "\n",
        "# Ruta al archivo .zip que deseas descomprimir\n",
        "archivo_zip = './drive/MyDrive/Diplomado En Machine Learning/Módulo 5 - Redes Neuronales/Proyecto Aplicado/x-rays.zip'\n",
        "\n",
        "# Directorio de destino donde se descomprimirán los archivos (la misma carpeta)\n",
        "directorio_destino = '/content/'\n",
        "\n",
        "# Abre el archivo .zip\n",
        "with zipfile.ZipFile(archivo_zip, 'r') as zip_ref:\n",
        "    # Extrae todos los archivos en el directorio de destino\n",
        "    zip_ref.extractall(directorio_destino)\n",
        "\n",
        "print(f'Archivos descomprimidos en: {directorio_destino}')"
      ],
      "metadata": {
        "colab": {
          "base_uri": "https://localhost:8080/"
        },
        "id": "JdfroUV9HILd",
        "outputId": "ea0ee804-b91d-4cef-f632-a8503addac06"
      },
      "id": "JdfroUV9HILd",
      "execution_count": null,
      "outputs": [
        {
          "output_type": "stream",
          "name": "stdout",
          "text": [
            "Archivos descomprimidos en: /content/\n"
          ]
        }
      ]
    },
    {
      "cell_type": "code",
      "source": [
        "files = os.listdir(\"./Data_blance\")\n",
        "\n",
        "# Imprimir el contenido de la carpeta\n",
        "\n",
        "for file in files:\n",
        "    print(file)"
      ],
      "metadata": {
        "colab": {
          "base_uri": "https://localhost:8080/"
        },
        "id": "8xMG_FxPHoff",
        "outputId": "3094968a-8919-4a0c-aa67-fd863f3f8108"
      },
      "id": "8xMG_FxPHoff",
      "execution_count": null,
      "outputs": [
        {
          "output_type": "stream",
          "name": "stdout",
          "text": [
            "Test\n",
            "Val\n",
            "Train\n"
          ]
        }
      ]
    },
    {
      "cell_type": "code",
      "source": [
        "train_dir = \"Data_blance/Train\"\n",
        "test_dir = \"Data_blance/Test\"\n",
        "\n",
        "load_from_images = True\n",
        "\n",
        "def get_data(folder):\n",
        "    X = []\n",
        "    y = []\n",
        "    for folderName in os.listdir(folder):\n",
        "        if not folderName.startswith('.'):\n",
        "            if folderName in ['bacteria']:\n",
        "                label = 0\n",
        "            elif folderName in ['Normal']:\n",
        "                label = 1\n",
        "            elif folderName in ['virus']:\n",
        "                label = 2\n",
        "            else:\n",
        "                label = 3\n",
        "            for image_filename in tqdm(os.listdir(folder + '/' + folderName)):\n",
        "                img_file = cv2.imread(folder + '/' + folderName + '/' + image_filename)\n",
        "                if img_file is not None:\n",
        "                    img_file = skimage.transform.resize(img_file, (150,150,3), mode='constant')\n",
        "                    img_file = rgb2gray(img_file)\n",
        "                    img_arr = np.asarray(img_file)\n",
        "                    X.append(img_arr)\n",
        "                    y.append(label)\n",
        "    X = np.asarray(X)\n",
        "    y = np.asarray(y)\n",
        "\n",
        "    return X, y\n",
        "\n",
        "if load_from_images:\n",
        "    X_train, y_train = get_data(train_dir)\n",
        "    X_test, y_test = get_data(test_dir)\n",
        "\n",
        "    np.save('xtrain.npy', X_train)\n",
        "    np.save('ytrain', y_train)\n",
        "    np.save('xtest.npy', X_test)\n",
        "    np.save('ytest', y_test)\n",
        "else:\n",
        "    X_train = np.load('xtrain.npy')\n",
        "    y_train = np.load('ytrain.npy')\n",
        "    X_test = np.load('xtest.npy')\n",
        "    y_test = np.load('ytest.npy')"
      ],
      "metadata": {
        "colab": {
          "base_uri": "https://localhost:8080/"
        },
        "id": "jdGR0yEOHPAr",
        "outputId": "c20503bc-94c4-4042-fb81-3ea784305813"
      },
      "id": "jdGR0yEOHPAr",
      "execution_count": null,
      "outputs": [
        {
          "output_type": "stream",
          "name": "stderr",
          "text": [
            "100%|██████████| 1300/1300 [04:28<00:00,  4.84it/s]\n",
            "100%|██████████| 1300/1300 [12:31<00:00,  1.73it/s]\n",
            "100%|██████████| 1300/1300 [03:57<00:00,  5.47it/s]\n",
            "100%|██████████| 100/100 [00:24<00:00,  4.16it/s]\n",
            "100%|██████████| 100/100 [00:59<00:00,  1.68it/s]\n",
            "100%|██████████| 100/100 [00:17<00:00,  5.87it/s]\n"
          ]
        }
      ]
    }
  ],
  "metadata": {
    "jupytext": {
      "cell_metadata_filter": "-all"
    },
    "kernelspec": {
      "display_name": "Python 3 (ipykernel)",
      "language": "python",
      "name": "python3"
    },
    "colab": {
      "provenance": []
    }
  },
  "nbformat": 4,
  "nbformat_minor": 5
}