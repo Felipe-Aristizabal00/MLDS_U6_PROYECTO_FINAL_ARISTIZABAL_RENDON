{
  "cells": [
    {
      "cell_type": "markdown",
      "metadata": {},
      "source": [
        "## 1. Intalación de Librerias"
      ]
    },
    {
      "cell_type": "code",
      "execution_count": null,
      "id": "b2e644a9",
      "metadata": {
        "colab": {
          "base_uri": "https://localhost:8080/"
        },
        "id": "b2e644a9",
        "outputId": "65facfd4-2cb6-4f2f-ef25-2248d6132e29"
      },
      "outputs": [
        {
          "name": "stdout",
          "output_type": "stream",
          "text": [
            "Requirement already satisfied: opencv-python in /usr/local/lib/python3.10/dist-packages (4.8.0.76)\n",
            "Requirement already satisfied: numpy>=1.21.2 in /usr/local/lib/python3.10/dist-packages (from opencv-python) (1.23.5)\n"
          ]
        }
      ],
      "source": [
        "!pip install opencv-python"
      ]
    },
    {
      "cell_type": "code",
      "execution_count": null,
      "id": "39lXLESCHEB-",
      "metadata": {
        "id": "39lXLESCHEB-"
      },
      "outputs": [],
      "source": [
        "from tqdm import tqdm\n",
        "import os\n",
        "import pandas as pd\n",
        "import tensorflow as tf\n",
        "import matplotlib.pyplot as plt\n",
        "import numpy as np\n",
        "import cv2\n",
        "from glob import glob\n",
        "import sklearn\n",
        "import skimage\n",
        "from skimage.transform import resize\n",
        "import random\n",
        "from cv2.gapi import RGB2Gray\n",
        "from skimage.color import rgb2gray\n",
        "import pdb"
      ]
    },
    {
      "cell_type": "markdown",
      "id": "V33o66WnHHYm",
      "metadata": {
        "id": "V33o66WnHHYm"
      },
      "source": [
        "La siguiente función solo opera de forma local lo cual facilita la obtención de las imágenes, a partir de un archivo llamado x-rays.zip y el cual contiene los directorios con las imágenes de rayos x, debidamente clasificados."
      ]
    },
    {
      "cell_type": "code",
      "execution_count": null,
      "id": "skUicKOeHrEe",
      "metadata": {
        "colab": {
          "base_uri": "https://localhost:8080/"
        },
        "id": "skUicKOeHrEe",
        "outputId": "eeb775be-8a87-444c-ad2c-c2cf9275e108"
      },
      "outputs": [
        {
          "name": "stdout",
          "output_type": "stream",
          "text": [
            "Mounted at /content/drive\n"
          ]
        }
      ],
      "source": [
        "from google.colab import drive\n",
        "drive.mount('/content/drive')"
      ]
    },
    {
      "cell_type": "code",
      "execution_count": null,
      "id": "JdfroUV9HILd",
      "metadata": {
        "colab": {
          "base_uri": "https://localhost:8080/"
        },
        "id": "JdfroUV9HILd",
        "outputId": "ea0ee804-b91d-4cef-f632-a8503addac06"
      },
      "outputs": [
        {
          "name": "stdout",
          "output_type": "stream",
          "text": [
            "Archivos descomprimidos en: /content/\n"
          ]
        }
      ],
      "source": [
        "import zipfile\n",
        "\n",
        "# Ruta al archivo .zip que deseas descomprimir\n",
        "archivo_zip = './drive/MyDrive/Diplomado En Machine Learning/Módulo 5 - Redes Neuronales/Proyecto Aplicado/x-rays.zip'\n",
        "\n",
        "# Directorio de destino donde se descomprimirán los archivos (la misma carpeta)\n",
        "directorio_destino = '/content/'\n",
        "\n",
        "# Abre el archivo .zip\n",
        "with zipfile.ZipFile(archivo_zip, 'r') as zip_ref:\n",
        "    # Extrae todos los archivos en el directorio de destino\n",
        "    zip_ref.extractall(directorio_destino)\n",
        "\n",
        "print(f'Archivos descomprimidos en: {directorio_destino}')"
      ]
    },
    {
      "cell_type": "markdown",
      "metadata": {},
      "source": [
        "##2. Organización de directorios\n",
        "\n",
        "En la siguiente celda se realiza la organizacion del los directorios divididos en las tres fases del entrenamiento del modelo que son los datos de test, datos de entrenamiento y los datos de validación con las subdivisiones correspondientes"
      ]
    },
    {
      "cell_type": "code",
      "execution_count": null,
      "id": "8xMG_FxPHoff",
      "metadata": {
        "colab": {
          "base_uri": "https://localhost:8080/"
        },
        "id": "8xMG_FxPHoff",
        "outputId": "3094968a-8919-4a0c-aa67-fd863f3f8108"
      },
      "outputs": [
        {
          "name": "stdout",
          "output_type": "stream",
          "text": [
            "Test\n",
            "Val\n",
            "Train\n"
          ]
        }
      ],
      "source": [
        "files = os.listdir(\"./Data_blance\")\n",
        "\n",
        "# Imprimir el contenido de la carpeta\n",
        "\n",
        "for file in files:\n",
        "    print(file)"
      ]
    }
  ],
  "metadata": {
    "colab": {
      "provenance": []
    },
    "jupytext": {
      "cell_metadata_filter": "-all"
    },
    "kernelspec": {
      "display_name": "Python 3 (ipykernel)",
      "language": "python",
      "name": "python3"
    }
  },
  "nbformat": 4,
  "nbformat_minor": 5
}
