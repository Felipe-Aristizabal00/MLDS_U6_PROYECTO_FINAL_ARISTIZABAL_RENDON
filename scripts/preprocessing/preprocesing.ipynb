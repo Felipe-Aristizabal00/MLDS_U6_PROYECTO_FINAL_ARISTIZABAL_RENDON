{
  "cells": [
    {
      "cell_type": "code",
      "execution_count": null,
      "id": "k7B1cgDaepc1",
      "metadata": {
        "id": "k7B1cgDaepc1"
      },
      "outputs": [],
      "source": [
        "!wget --no-cache -O x-rays.zip.npy -q \"https://drive.google.com/uc?export=download&id=1It4NYRJNEem3YLHJqYZyclUbR85eqZH8\""
      ]
    },
    {
      "cell_type": "code",
      "execution_count": null,
      "id": "b2e644a9",
      "metadata": {
        "colab": {
          "base_uri": "https://localhost:8080/"
        },
        "id": "b2e644a9",
        "outputId": "65facfd4-2cb6-4f2f-ef25-2248d6132e29"
      },
      "outputs": [
        {
          "name": "stdout",
          "output_type": "stream",
          "text": [
            "Requirement already satisfied: opencv-python in /usr/local/lib/python3.10/dist-packages (4.8.0.76)\n",
            "Requirement already satisfied: numpy>=1.21.2 in /usr/local/lib/python3.10/dist-packages (from opencv-python) (1.23.5)\n"
          ]
        }
      ],
      "source": [
        "!pip install opencv-python"
      ]
    },
    {
      "cell_type": "code",
      "execution_count": null,
      "id": "39lXLESCHEB-",
      "metadata": {
        "id": "39lXLESCHEB-"
      },
      "outputs": [],
      "source": [
        "from tqdm import tqdm\n",
        "import os\n",
        "import pandas as pd\n",
        "import tensorflow as tf\n",
        "import matplotlib.pyplot as plt\n",
        "import numpy as np\n",
        "import cv2\n",
        "from glob import glob\n",
        "import sklearn\n",
        "import skimage\n",
        "from skimage.transform import resize\n",
        "import random\n",
        "from cv2.gapi import RGB2Gray\n",
        "from skimage.color import rgb2gray\n",
        "import pdb"
      ]
    },
    {
      "cell_type": "markdown",
      "id": "V33o66WnHHYm",
      "metadata": {
        "id": "V33o66WnHHYm"
      },
      "source": [
        "La siguiente función solo opera de forma local lo cual facilita la obtención de las imágenes, a partir de un archivo llamado x-rays.zip y el cual contiene los directorios con las imágenes de rayos x, debidamente clasificados."
      ]
    },
    {
      "cell_type": "code",
      "execution_count": null,
      "id": "skUicKOeHrEe",
      "metadata": {
        "colab": {
          "base_uri": "https://localhost:8080/"
        },
        "id": "skUicKOeHrEe",
        "outputId": "eeb775be-8a87-444c-ad2c-c2cf9275e108"
      },
      "outputs": [
        {
          "name": "stdout",
          "output_type": "stream",
          "text": [
            "Mounted at /content/drive\n"
          ]
        }
      ],
      "source": [
        "from google.colab import drive\n",
        "drive.mount('/content/drive')"
      ]
    },
    {
      "cell_type": "code",
      "execution_count": null,
      "id": "JdfroUV9HILd",
      "metadata": {
        "colab": {
          "base_uri": "https://localhost:8080/"
        },
        "id": "JdfroUV9HILd",
        "outputId": "ea0ee804-b91d-4cef-f632-a8503addac06"
      },
      "outputs": [
        {
          "name": "stdout",
          "output_type": "stream",
          "text": [
            "Archivos descomprimidos en: /content/\n"
          ]
        }
      ],
      "source": [
        "import zipfile\n",
        "\n",
        "# Ruta al archivo .zip que deseas descomprimir\n",
        "archivo_zip = './drive/MyDrive/Diplomado En Machine Learning/Módulo 5 - Redes Neuronales/Proyecto Aplicado/x-rays.zip'\n",
        "\n",
        "# Directorio de destino donde se descomprimirán los archivos (la misma carpeta)\n",
        "directorio_destino = '/content/'\n",
        "\n",
        "# Abre el archivo .zip\n",
        "with zipfile.ZipFile(archivo_zip, 'r') as zip_ref:\n",
        "    # Extrae todos los archivos en el directorio de destino\n",
        "    zip_ref.extractall(directorio_destino)\n",
        "\n",
        "print(f'Archivos descomprimidos en: {directorio_destino}')"
      ]
    },
    {
      "cell_type": "code",
      "execution_count": null,
      "id": "8xMG_FxPHoff",
      "metadata": {
        "colab": {
          "base_uri": "https://localhost:8080/"
        },
        "id": "8xMG_FxPHoff",
        "outputId": "3094968a-8919-4a0c-aa67-fd863f3f8108"
      },
      "outputs": [
        {
          "name": "stdout",
          "output_type": "stream",
          "text": [
            "Test\n",
            "Val\n",
            "Train\n"
          ]
        }
      ],
      "source": [
        "files = os.listdir(\"./Data_blance\")\n",
        "\n",
        "# Imprimir el contenido de la carpeta\n",
        "\n",
        "for file in files:\n",
        "    print(file)"
      ]
    },
    {
      "cell_type": "code",
      "execution_count": null,
      "id": "jdGR0yEOHPAr",
      "metadata": {
        "colab": {
          "base_uri": "https://localhost:8080/"
        },
        "id": "jdGR0yEOHPAr",
        "outputId": "c20503bc-94c4-4042-fb81-3ea784305813"
      },
      "outputs": [
        {
          "name": "stderr",
          "output_type": "stream",
          "text": [
            "100%|██████████| 1300/1300 [04:28<00:00,  4.84it/s]\n",
            "100%|██████████| 1300/1300 [12:31<00:00,  1.73it/s]\n",
            "100%|██████████| 1300/1300 [03:57<00:00,  5.47it/s]\n",
            "100%|██████████| 100/100 [00:24<00:00,  4.16it/s]\n",
            "100%|██████████| 100/100 [00:59<00:00,  1.68it/s]\n",
            "100%|██████████| 100/100 [00:17<00:00,  5.87it/s]\n"
          ]
        }
      ],
      "source": [
        "train_dir = \"Data_blance/Train\"\n",
        "test_dir = \"Data_blance/Test\"\n",
        "\n",
        "load_from_images = True\n",
        "\n",
        "def get_data(folder):\n",
        "    \"\"\"\n",
        "    Carga imágenes desde una carpeta y las prepara para su uso en entrenamiento y prueba.\n",
        "\n",
        "    Parameters:\n",
        "    - folder (str): Ruta de la carpeta que contiene subcarpetas con imágenes.\n",
        "\n",
        "    Returns:\n",
        "    - X (numpy.ndarray): Matriz de características que representa las imágenes.\n",
        "    - y (numpy.ndarray): Matriz de etiquetas correspondientes a las clases de las imágenes.\n",
        "\n",
        "    Note:\n",
        "    - Las clases se asignan de acuerdo con las subcarpetas 'bacteria', 'Normal', 'virus', y otras.\n",
        "    - Las imágenes se redimensionan a 150x150 píxeles y se convierten a escala de grises.\n",
        "\n",
        "    Example:\n",
        "    ```python\n",
        "    X_train, y_train = get_data('/ruta/a/los/datos_de_entrenamiento')\n",
        "    X_test, y_test = get_data('/ruta/a/los/datos_de_prueba')\n",
        "    ```\n",
        "    \"\"\"\n",
        "\n",
        "    X = []  # Lista para almacenar las imágenes como matrices\n",
        "    y = []  # Lista para almacenar las etiquetas de clase\n",
        "\n",
        "    # Iterar a través de las subcarpetas en la carpeta proporcionada\n",
        "    for folderName in os.listdir(folder):\n",
        "        if not folderName.startswith('.'):\n",
        "            # Asignar etiquetas de clase según el nombre de la subcarpeta\n",
        "            if folderName in ['bacteria']:\n",
        "                label = 0\n",
        "            elif folderName in ['Normal']:\n",
        "                label = 1\n",
        "            elif folderName in ['virus']:\n",
        "                label = 2\n",
        "            else:\n",
        "                label = 3\n",
        "\n",
        "            # Iterar a través de los archivos de imágenes en la subcarpeta actual\n",
        "            for image_filename in tqdm(os.listdir(folder + '/' + folderName)):\n",
        "                # Leer la imagen utilizando OpenCV\n",
        "                img_file = cv2.imread(folder + '/' + folderName + '/' + image_filename)\n",
        "                \n",
        "                # Verificar si la imagen se cargó correctamente\n",
        "                if img_file is not None:\n",
        "                    # Redimensionar la imagen y convertirla a escala de grises\n",
        "                    img_file = skimage.transform.resize(img_file, (150, 150, 3), mode='constant')\n",
        "                    img_file = rgb2gray(img_file)\n",
        "                    \n",
        "                    # Convertir la imagen a una matriz numpy y agregarla a la lista X\n",
        "                    img_arr = np.asarray(img_file)\n",
        "                    X.append(img_arr)\n",
        "                    \n",
        "                    # Agregar la etiqueta correspondiente a la lista y\n",
        "                    y.append(label)\n",
        "\n",
        "    # Convertir las listas X e y a matrices numpy\n",
        "    X = np.asarray(X)\n",
        "    y = np.asarray(y)\n",
        "\n",
        "    return X, y\n",
        "\n",
        "# Ejemplo de uso condicional basado en la variable load_from_images\n",
        "if load_from_images:\n",
        "    X_train, y_train = get_data(train_dir)\n",
        "    X_test, y_test = get_data(test_dir)\n",
        "\n",
        "    # Guardar matrices de entrenamiento y prueba en archivos numpy\n",
        "    np.save('xtrain.npy', X_train)\n",
        "    np.save('ytrain.npy', y_train)\n",
        "    np.save('xtest.npy', X_test)\n",
        "    np.save('ytest.npy', y_test)\n",
        "else:\n",
        "    # Cargar matrices previamente guardadas desde archivos numpy\n",
        "    X_train = np.load('xtrain.npy')\n",
        "    y_train = np.load('ytrain.npy')\n",
        "    X_test = np.load('xtest.npy')\n",
        "    y_test = np.load('ytest.npy')"
      ]
    }
  ],
  "metadata": {
    "colab": {
      "provenance": []
    },
    "jupytext": {
      "cell_metadata_filter": "-all"
    },
    "kernelspec": {
      "display_name": "Python 3 (ipykernel)",
      "language": "python",
      "name": "python3"
    }
  },
  "nbformat": 4,
  "nbformat_minor": 5
}
